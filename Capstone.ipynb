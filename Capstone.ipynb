{
 "cells": [
  {
   "cell_type": "markdown",
   "metadata": {},
   "source": [
    "The Face Recognition Code. Differntiating and Locating Faces in a picture!"
   ]
  },
  {
   "cell_type": "code",
   "execution_count": 10,
   "metadata": {},
   "outputs": [
    {
     "name": "stdout",
     "output_type": "stream",
     "text": [
      "I found 1 face(s) in this photograph.\n",
      "A face is located at pixel location Top: 43, Left: 86, Bottom: 157, Right: 200\n"
     ]
    }
   ],
   "source": [
    "from PIL import Image\n",
    "import face_recognition\n",
    "\n",
    "# Load the jpg file into a numpy array\n",
    "image = face_recognition.load_image_file('/Users/Scott/Documents/DSI6/FaceRecognition/littlescott.jpg')\n",
    "\n",
    "# Find all the faces in the image using a pre-trained convolutional neural network.\n",
    "# This method is more accurate than the default HOG model, but it's slower\n",
    "# unless you have an nvidia GPU and dlib compiled with CUDA extensions. But if you do,\n",
    "# this will use GPU acceleration and perform well.\n",
    "# See also: find_faces_in_picture.py\n",
    "face_locations = face_recognition.face_locations(image, number_of_times_to_upsample=0, model=\"cnn\")\n",
    "\n",
    "print(\"I found {} face(s) in this photograph.\".format(len(face_locations)))\n",
    "\n",
    "for face_location in face_locations:\n",
    "\n",
    "    # Print the location of each face in this image\n",
    "    top, right, bottom, left = face_location\n",
    "    print(\"A face is located at pixel location Top: {}, Left: {}, Bottom: {}, Right: {}\".format(top, left, bottom, right))\n",
    "\n",
    "    # You can access the actual face itself like this:\n",
    "    face_image = image[top:bottom, left:right]\n",
    "    pil_image = Image.fromarray(face_image)\n",
    "    pil_image.show()"
   ]
  },
  {
   "cell_type": "code",
   "execution_count": 41,
   "metadata": {
    "collapsed": true
   },
   "outputs": [],
   "source": [
    "import face_recognition\n",
    "image = face_recognition.load_image_file(\"/Users/Scott/Documents/DSI 6 /Face Recognition/obama.jpg\")\n",
    "face_locations = face_recognition.face_locations(image)"
   ]
  },
  {
   "cell_type": "code",
   "execution_count": 38,
   "metadata": {},
   "outputs": [
    {
     "data": {
      "text/plain": [
       "[(80, 211, 187, 103)]"
      ]
     },
     "execution_count": 38,
     "metadata": {},
     "output_type": "execute_result"
    }
   ],
   "source": [
    "face_locations"
   ]
  },
  {
   "cell_type": "code",
   "execution_count": 42,
   "metadata": {
    "collapsed": true
   },
   "outputs": [],
   "source": [
    "face_landmarks_list = face_recognition.face_landmarks(image)"
   ]
  },
  {
   "cell_type": "code",
   "execution_count": 40,
   "metadata": {},
   "outputs": [
    {
     "data": {
      "text/plain": [
       "[{'bottom_lip': [(173, 167),\n",
       "   (168, 175),\n",
       "   (161, 177),\n",
       "   (155, 176),\n",
       "   (149, 174),\n",
       "   (140, 168),\n",
       "   (132, 159),\n",
       "   (134, 160),\n",
       "   (150, 169),\n",
       "   (156, 171),\n",
       "   (162, 171),\n",
       "   (171, 167)],\n",
       "  'chin': [(99, 121),\n",
       "   (99, 134),\n",
       "   (99, 147),\n",
       "   (100, 161),\n",
       "   (106, 172),\n",
       "   (117, 182),\n",
       "   (129, 190),\n",
       "   (141, 197),\n",
       "   (153, 200),\n",
       "   (163, 199),\n",
       "   (171, 193),\n",
       "   (177, 183),\n",
       "   (182, 173),\n",
       "   (185, 162),\n",
       "   (189, 152),\n",
       "   (190, 142),\n",
       "   (190, 133)],\n",
       "  'left_eye': [(131, 117),\n",
       "   (136, 116),\n",
       "   (141, 117),\n",
       "   (146, 120),\n",
       "   (141, 120),\n",
       "   (136, 119)],\n",
       "  'left_eyebrow': [(122, 106), (131, 103), (140, 103), (149, 104), (156, 110)],\n",
       "  'nose_bridge': [(164, 120), (164, 128), (165, 136), (166, 144)],\n",
       "  'nose_tip': [(150, 147), (155, 150), (161, 153), (165, 153), (169, 151)],\n",
       "  'right_eye': [(169, 126),\n",
       "   (174, 124),\n",
       "   (179, 126),\n",
       "   (183, 129),\n",
       "   (178, 129),\n",
       "   (173, 128)],\n",
       "  'right_eyebrow': [(170, 113),\n",
       "   (177, 112),\n",
       "   (184, 113),\n",
       "   (189, 117),\n",
       "   (190, 122)],\n",
       "  'top_lip': [(132, 159),\n",
       "   (142, 156),\n",
       "   (152, 157),\n",
       "   (158, 159),\n",
       "   (163, 159),\n",
       "   (170, 162),\n",
       "   (173, 167),\n",
       "   (171, 167),\n",
       "   (163, 162),\n",
       "   (157, 161),\n",
       "   (151, 160),\n",
       "   (134, 160)]}]"
      ]
     },
     "execution_count": 40,
     "metadata": {},
     "output_type": "execute_result"
    }
   ],
   "source": [
    "face_landmarks_list"
   ]
  },
  {
   "cell_type": "code",
   "execution_count": 52,
   "metadata": {
    "collapsed": true
   },
   "outputs": [],
   "source": [
    "known_image = face_recognition.load_image_file(\"/Users/Scott/Documents/DSI 6 /Face Recognition/scott1.jpg\")\n",
    "unknown_image = face_recognition.load_image_file(\"/Users/Scott/Documents/DSI 6 /Face Recognition/biden.jpg\")\n",
    "\n",
    "obama_encoding = face_recognition.face_encodings(known_image)[0]\n",
    "unknown_encoding = face_recognition.face_encodings(unknown_image)[0]\n",
    "\n",
    "results = face_recognition.compare_faces([obama_encoding], unknown_encoding)"
   ]
  },
  {
   "cell_type": "code",
   "execution_count": 53,
   "metadata": {},
   "outputs": [
    {
     "data": {
      "text/plain": [
       "[False]"
      ]
     },
     "execution_count": 53,
     "metadata": {},
     "output_type": "execute_result"
    }
   ],
   "source": [
    "results"
   ]
  },
  {
   "cell_type": "code",
   "execution_count": 11,
   "metadata": {},
   "outputs": [
    {
     "name": "stdout",
     "output_type": "stream",
     "text": [
      "Is the unknown face a picture of scott? False\n",
      "Is the unknown face a picture of Obama? False\n",
      "Is the unknown face a new person that we've never seen before? True\n"
     ]
    }
   ],
   "source": [
    "# Load the jpg files into numpy arrays\n",
    "scott_image = face_recognition.load_image_file( \"/Users/Scott/Documents/DSI6/FaceRecognition/scott1.jpg\")\n",
    "obama_image = face_recognition.load_image_file(\"/Users/Scott/Documents/DSI6/FaceRecognition/obama.jpg\")\n",
    "unknown_image = face_recognition.load_image_file(\"/Users/Scott/Documents/DSI6/FaceRecognition/littlescott.jpg\")\n",
    "\n",
    "# Get the face encodings for each face in each image file\n",
    "# Since there could be more than one face in each image, it returns a list of encodings.\n",
    "# But since I know each image only has one face, I only care about the first encoding in each image, so I grab index 0.\n",
    "scott_face_encoding = face_recognition.face_encodings(scott_image)[0]\n",
    "obama_face_encoding = face_recognition.face_encodings(hotguy_image)[0]\n",
    "unknown_face_encoding = face_recognition.face_encodings(unknown_image)[0]\n",
    "\n",
    "known_faces = [\n",
    "    scott_face_encoding,\n",
    "    hotguy_face_encoding\n",
    "]\n",
    "\n",
    "# results is an array of True/False telling if the unknown face matched anyone in the known_faces array\n",
    "results = face_recognition.compare_faces(known_faces, unknown_face_encoding)\n",
    "\n",
    "print(\"Is the unknown face a picture of Scott? {}\".format(results[0]))\n",
    "print(\"Is the unknown face a picture of Obama? {}\".format(results[1]))\n",
    "print(\"Is the unknown face a new person that we've never seen before? {}\".format(not True in results))"
   ]
  },
  {
   "cell_type": "code",
   "execution_count": null,
   "metadata": {
    "collapsed": true
   },
   "outputs": [],
   "source": []
  }
 ],
 "metadata": {
  "kernelspec": {
   "display_name": "capstone",
   "language": "python",
   "name": "capstone"
  },
  "language_info": {
   "codemirror_mode": {
    "name": "ipython",
    "version": 3
   },
   "file_extension": ".py",
   "mimetype": "text/x-python",
   "name": "python",
   "nbconvert_exporter": "python",
   "pygments_lexer": "ipython3",
   "version": "3.6.3"
  }
 },
 "nbformat": 4,
 "nbformat_minor": 2
}
